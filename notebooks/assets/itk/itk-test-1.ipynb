{
 "cells": [
  {
   "cell_type": "markdown",
   "id": "d287056d-536c-4a5c-a594-e72e469cd7e3",
   "metadata": {},
   "source": [
    "# itk - tests-1 - OPEN IN JUPYTER NOTEBOOK (ipywidgets)\n",
    "\n",
    "Created: 2021.11.12 / Updated: 2021.11.12"
   ]
  },
  {
   "cell_type": "code",
   "execution_count": 1,
   "id": "b5610839-76a2-4bbd-8665-206b35016c3c",
   "metadata": {},
   "outputs": [],
   "source": [
    "%load_ext autoreload\n",
    "%autoreload 2"
   ]
  },
  {
   "cell_type": "code",
   "execution_count": 2,
   "id": "800810c5-2f3f-4040-83de-5dc5c18ff383",
   "metadata": {},
   "outputs": [],
   "source": [
    "%matplotlib inline\n",
    "\n",
    "import os\n",
    "import sys\n",
    "import pathlib\n",
    "import glob\n",
    "\n",
    "import numpy as np\n",
    "import pandas as pd\n",
    "import nibabel as nib\n",
    "import matplotlib.pyplot as plt"
   ]
  },
  {
   "cell_type": "code",
   "execution_count": 3,
   "id": "0f437f11-303d-4a3e-81eb-5547789002ba",
   "metadata": {},
   "outputs": [],
   "source": [
    "# add path to our moudles\n",
    "sys.path.append(os.getcwd().split('assets')[0])\n",
    "\n",
    "import utils\n",
    "import functions1 as f1"
   ]
  },
  {
   "cell_type": "markdown",
   "id": "ebce86ef-ecc9-45e6-bc89-d38326ba8283",
   "metadata": {},
   "source": [
    "# GLOBAL VARIABLES"
   ]
  },
  {
   "cell_type": "code",
   "execution_count": 4,
   "id": "d60c0284-6a8f-4e09-9ec8-74098b2f4d5b",
   "metadata": {},
   "outputs": [],
   "source": [
    "HOME_DIR = pathlib.Path(os.getcwd()).parent.parent.parent\n",
    "DATA_DIR = HOME_DIR / 'data'\n",
    "RESULTS_DIR = DATA_DIR / 'results'\n",
    "\n",
    "SUB = 'CC3'"
   ]
  },
  {
   "cell_type": "markdown",
   "id": "0ea90e79-f7fd-42e7-9e19-0f2401aa8b8b",
   "metadata": {},
   "source": [
    "---"
   ]
  },
  {
   "cell_type": "markdown",
   "id": "c263ac43-a274-4516-bac8-165d2a7ff1a1",
   "metadata": {},
   "source": [
    "# GET LIST ALL CC3 IMAGES"
   ]
  },
  {
   "cell_type": "code",
   "execution_count": 5,
   "id": "59d9aa4b-9e24-4ac2-b211-c2928529cacc",
   "metadata": {},
   "outputs": [],
   "source": [
    "files = list(RESULTS_DIR.glob(f\"*{SUB}*.nii.gz\"))\n",
    "#files"
   ]
  },
  {
   "cell_type": "code",
   "execution_count": 6,
   "id": "3c49e1a8-8e5f-41ca-94d7-f194b41e78f3",
   "metadata": {},
   "outputs": [
    {
     "name": "stdout",
     "output_type": "stream",
     "text": [
      "1) CC3_t2.nii.gz\n",
      "2) CC3_t2_roi.nii.gz\n",
      "3) CC3_t2_roi_cm.nii.gz\n",
      "4) CC3_t2_roi_dilated2.nii.gz\n",
      "5) CC3_t2_roi_dilated_ball3.nii.gz\n"
     ]
    }
   ],
   "source": [
    "# print only names\n",
    "_ = [print(f'{k+1}) {f.name}') for k, f in enumerate(sorted(files))]"
   ]
  },
  {
   "cell_type": "markdown",
   "id": "159f5e8f-d68a-4c51-9b78-24ef8ae23d23",
   "metadata": {},
   "source": [
    "## LOAD ALL IMAGES"
   ]
  },
  {
   "cell_type": "code",
   "execution_count": 7,
   "id": "073931ca-6f68-498b-b198-53543b6a2698",
   "metadata": {},
   "outputs": [],
   "source": [
    "# image\n",
    "img = nib.load(RESULTS_DIR / f'{SUB}_t2.nii.gz').get_fdata()\n",
    "# roi\n",
    "roi = nib.load(RESULTS_DIR / f'{SUB}_t2_roi.nii.gz').get_fdata()\n",
    "# dilated 2\n",
    "dil2 = nib.load(RESULTS_DIR / f'{SUB}_t2_roi_dilated2.nii.gz').get_fdata()\n",
    "# ball3\n",
    "bal3 = nib.load(RESULTS_DIR / f'{SUB}_t2_roi_dilated_ball3.nii.gz').get_fdata()"
   ]
  },
  {
   "cell_type": "markdown",
   "id": "1ebb6730-ceb3-4a6c-9bb0-d976e17ef71f",
   "metadata": {},
   "source": [
    "### CREATE LIST OFLOADED IMAGES AND LIST OF THEIR NAMES"
   ]
  },
  {
   "cell_type": "code",
   "execution_count": 8,
   "id": "9f338c3f-55ce-4e7c-8c15-9911a3a4a14d",
   "metadata": {},
   "outputs": [
    {
     "name": "stdout",
     "output_type": "stream",
     "text": [
      "*** IMG ***,\tmax=1640.0, min=0.0, aver=443.37, shape=(320, 320, 28), dtype=float64\n"
     ]
    }
   ],
   "source": [
    "f1.im_info(img, 'img')"
   ]
  },
  {
   "cell_type": "markdown",
   "id": "dc472ba8-c6c6-4efc-91ba-f82dc6a638e7",
   "metadata": {},
   "source": [
    "# ITK"
   ]
  },
  {
   "cell_type": "markdown",
   "id": "ca619f89",
   "metadata": {},
   "source": [
    "[Quick start guide - Filter parameters](https://itkpythonpackage.readthedocs.io/en/master/Quick_start_guide.html#filter-parameters)\n",
    "\n",
    "[Quick start guide](https://itkpythonpackage.readthedocs.io/en/stable/Quick_start_guide.html)"
   ]
  },
  {
   "cell_type": "code",
   "execution_count": 9,
   "id": "8daa2748-f24c-4af9-81e7-d73f6f3f25ef",
   "metadata": {},
   "outputs": [],
   "source": [
    "import itk"
   ]
  },
  {
   "cell_type": "code",
   "execution_count": 10,
   "id": "6fb067cc-473f-4e07-98cb-85ddee89e4e2",
   "metadata": {},
   "outputs": [
    {
     "name": "stdout",
     "output_type": "stream",
     "text": [
      "<class 'str'>\n",
      "True\n"
     ]
    },
    {
     "data": {
      "text/plain": [
       "(28, 320, 320)"
      ]
     },
     "execution_count": 10,
     "metadata": {},
     "output_type": "execute_result"
    }
   ],
   "source": [
    "file = str(RESULTS_DIR / f'{SUB}_t2.nii.gz')\n",
    "print(type(file))\n",
    "print(os.path.exists(file))\n",
    "\n",
    "\n",
    "image = itk.imread(file)\n",
    "image.shape"
   ]
  },
  {
   "cell_type": "code",
   "execution_count": 11,
   "id": "fbee7480-4cb7-4014-bb35-0a19f48cad88",
   "metadata": {},
   "outputs": [
    {
     "name": "stdout",
     "output_type": "stream",
     "text": [
      "itkVectorD3 ([0.625, 0.625, 3.3])\n",
      "itkPointD3 ([-102.158, 131.657, -34.0861])\n",
      "3\n",
      "1\n",
      "<itk.itkMatrixPython.itkMatrixD33; proxy of <Swig Object of type 'itkMatrixD33 *' at 0x7fb56c670750> >\n",
      "(28, 320, 320)\n"
     ]
    }
   ],
   "source": [
    "print(image.GetSpacing())\n",
    "print(image.GetOrigin())\n",
    "print(image.GetImageDimension())\n",
    "print(image.GetNumberOfComponentsPerPixel())\n",
    "print(image.GetDirection())\n",
    "print(image.shape)"
   ]
  },
  {
   "cell_type": "markdown",
   "id": "201b9e6b",
   "metadata": {},
   "source": [
    "---"
   ]
  },
  {
   "cell_type": "markdown",
   "id": "1e4f4b42",
   "metadata": {},
   "source": [
    "# convertion numpy <-> itk"
   ]
  },
  {
   "cell_type": "markdown",
   "id": "d881882e",
   "metadata": {},
   "source": [
    "[Convert ITK Data Structures to NumPy Arrays](https://blog.kitware.com/convert-itk-data-structures-to-numpy-arrays/)"
   ]
  },
  {
   "cell_type": "code",
   "execution_count": 12,
   "id": "66a21e28",
   "metadata": {},
   "outputs": [],
   "source": [
    "array_view = itk.GetArrayViewFromImage(image)\n",
    "array = itk.GetArrayFromImage(image)"
   ]
  },
  {
   "cell_type": "code",
   "execution_count": 13,
   "id": "5dba8aec",
   "metadata": {},
   "outputs": [
    {
     "name": "stdout",
     "output_type": "stream",
     "text": [
      "*** VIEW ***,\tmax=1640, min=0, aver=443.37, shape=(28, 320, 320), dtype=int16\n",
      "*** ARRAY ***,\tmax=1640, min=0, aver=443.37, shape=(28, 320, 320), dtype=int16\n"
     ]
    }
   ],
   "source": [
    "f1.im_info(array_view,  'view')\n",
    "f1.im_info(array, 'array')"
   ]
  },
  {
   "cell_type": "code",
   "execution_count": 14,
   "id": "1f6c7a32-8a31-404d-89e9-928de54ba9e7",
   "metadata": {},
   "outputs": [],
   "source": [
    "image_view = itk.GetImageViewFromArray(array_view)\n",
    "image2 = itk.GetImageFromArray(array)"
   ]
  },
  {
   "cell_type": "code",
   "execution_count": 15,
   "id": "e70aaf4b-7084-4826-97d3-0b5c4136eff0",
   "metadata": {},
   "outputs": [
    {
     "data": {
      "text/plain": [
       "itkVectorD3 ([1, 1, 1])"
      ]
     },
     "execution_count": 15,
     "metadata": {},
     "output_type": "execute_result"
    }
   ],
   "source": [
    "image2.GetSpacing()"
   ]
  },
  {
   "cell_type": "markdown",
   "id": "6169bb55",
   "metadata": {},
   "source": [
    "---"
   ]
  },
  {
   "cell_type": "markdown",
   "id": "47424510",
   "metadata": {},
   "source": [
    "[median image filter](https://blog.kitware.com/itk-python-image-pixel-types/)"
   ]
  },
  {
   "cell_type": "code",
   "execution_count": 16,
   "id": "f2129e4d-3e3e-45ff-a097-1f819ced5ecc",
   "metadata": {},
   "outputs": [],
   "source": [
    "median = itk.MedianImageFilter.New(image, Radius = 2)\n",
    "median.Update()"
   ]
  },
  {
   "cell_type": "code",
   "execution_count": 17,
   "id": "3d926e1d-5f00-4414-91a7-2ab1af049288",
   "metadata": {},
   "outputs": [],
   "source": [
    "#itk.imwrite(median, \"output_filename.nii.gz\")"
   ]
  },
  {
   "cell_type": "markdown",
   "id": "2d4ed2af",
   "metadata": {},
   "source": [
    "---"
   ]
  },
  {
   "cell_type": "code",
   "execution_count": 18,
   "id": "65ae3ff8-2469-4780-ad82-01d6366ec939",
   "metadata": {},
   "outputs": [],
   "source": [
    "stat = itk.StatisticsImageFilter.New(image)\n",
    "stat.Update()"
   ]
  },
  {
   "cell_type": "code",
   "execution_count": 19,
   "id": "3b50687b-c5b0-4352-a14d-4cb48e789eb7",
   "metadata": {},
   "outputs": [
    {
     "name": "stdout",
     "output_type": "stream",
     "text": [
      "1640\n",
      "0\n",
      "443.36615687779016\n",
      "106684.85782641271\n",
      "326.62648059582176\n"
     ]
    }
   ],
   "source": [
    "print(stat.GetMaximum())\n",
    "print(stat.GetMinimum())\n",
    "print(stat.GetMean())\n",
    "print(stat.GetVariance())\n",
    "print(stat.GetSigma())"
   ]
  },
  {
   "cell_type": "code",
   "execution_count": 21,
   "id": "9dba1eb4",
   "metadata": {},
   "outputs": [],
   "source": [
    "from itkwidgets import view"
   ]
  },
  {
   "cell_type": "code",
   "execution_count": 22,
   "id": "1cd93de7",
   "metadata": {},
   "outputs": [
    {
     "data": {
      "application/vnd.jupyter.widget-view+json": {
       "model_id": "37381ffe625742188a195116ceac0ef7",
       "version_major": 2,
       "version_minor": 0
      },
      "text/plain": [
       "Viewer(geometries=[], gradient_opacity=0.22, point_sets=[], rendered_image=<itk.itkImagePython.itkImageSS3; pr…"
      ]
     },
     "metadata": {},
     "output_type": "display_data"
    }
   ],
   "source": [
    "view(median)"
   ]
  },
  {
   "cell_type": "markdown",
   "id": "6bf2f7f5-cb87-4c6d-8b2b-fe56b78d4b88",
   "metadata": {},
   "source": [
    "---"
   ]
  },
  {
   "cell_type": "markdown",
   "id": "654ad040-d528-49ac-a879-d8f3e1e03273",
   "metadata": {},
   "source": [
    "# RESAMPLE IMAGE (ITK)\n",
    "# https://itk.org/ITKExamples/src/Filtering/ImageGrid/ResampleAnImage/Documentation.html"
   ]
  },
  {
   "cell_type": "code",
   "execution_count": null,
   "id": "00c65ace-1fcd-42e1-b38c-8c970447e36b",
   "metadata": {},
   "outputs": [],
   "source": [
    "#!/usr/bin/env python\n",
    "\n",
    "import sys\n",
    "import itk\n",
    "\n",
    "sub = 'CC1'\n",
    "\n",
    "input_file_name = str(RESULTS_DIR / f'{sub}_t2.nii.gz')\n",
    "output_file_name = str(RESULTS_DIR / f'{sub}_t2_resampled.nii.gz')\n",
    "scale = float(2)\n",
    "\n",
    "input_image = itk.imread(input_file_name)\n",
    "input_size = itk.size(input_image)\n",
    "input_spacing = itk.spacing(input_image)\n",
    "input_origin = itk.origin(input_image)\n",
    "Dimension = input_image.GetImageDimension()\n",
    "\n",
    "# We will scale the objects in the image by the factor `scale`; that is they\n",
    "# will be shrunk (scale < 1.0) or enlarged (scale > 1.0).  However, the number\n",
    "# of pixels for each dimension of the output image will equal the corresponding\n",
    "# number of pixels in the input image, with cropping or padding as necessary.\n",
    "# Furthermore, the physical distance between adjacent pixels will be the same\n",
    "# in the input and the output images.  In contrast, if you want to change the\n",
    "# resolution of the image without changing the represented physical size of the\n",
    "# objects in the image, omit the transform and instead supply:\n",
    "#\n",
    "# output_size = [int(input_size[d] * scale) for d in range(Dimension)]\n",
    "# output_spacing = [input_spacing[d] / scale for d in range(Dimension)]\n",
    "# output_origin = [input_origin[d] + 0.5 * (output_spacing[d] - input_spacing[d])\n",
    "#                  for d in range(Dimension)]\n",
    "\n",
    "output_size = input_size\n",
    "output_spacing = input_spacing\n",
    "output_origin = input_origin\n",
    "scale_transform = itk.ScaleTransform[itk.D, Dimension].New()\n",
    "scale_transform_parameters = scale_transform.GetParameters()\n",
    "for i in range(len(scale_transform_parameters)):\n",
    "    scale_transform_parameters[i] = scale\n",
    "scale_transform_center = [float(int(s / 2)) for s in input_size]\n",
    "scale_transform.SetParameters(scale_transform_parameters)\n",
    "scale_transform.SetCenter(scale_transform_center)\n",
    "\n",
    "interpolator = itk.LinearInterpolateImageFunction.New(input_image)\n",
    "\n",
    "resampled = itk.resample_image_filter(\n",
    "    input_image,\n",
    "    transform=scale_transform,\n",
    "    interpolator=interpolator,\n",
    "    size=output_size,\n",
    "    output_spacing=output_spacing,\n",
    "    output_origin=output_origin,\n",
    ")\n",
    "\n",
    "itk.imwrite(resampled, output_file_name)\n",
    "print('done')"
   ]
  },
  {
   "cell_type": "markdown",
   "id": "d66116b7",
   "metadata": {},
   "source": [
    "---"
   ]
  },
  {
   "cell_type": "markdown",
   "id": "d37fcacf",
   "metadata": {},
   "source": [
    "# histogram"
   ]
  },
  {
   "cell_type": "markdown",
   "id": "05cb5d88",
   "metadata": {},
   "source": [
    "[Histogram Creation and Bin Access](https://itk.org/ITKExamples/src/Numerics/Statistics/HistogramCreationAndBinAccess/Documentation.html)\n",
    "\n",
    "[HistogramMatchingImageFilter](https://simpleitk.org/doxygen/latest/html/classitk_1_1simple_1_1HistogramMatchingImageFilter.html)"
   ]
  },
  {
   "cell_type": "code",
   "execution_count": null,
   "id": "bf48aba9-7126-4490-90d6-3fd18da62d45",
   "metadata": {},
   "outputs": [],
   "source": []
  },
  {
   "cell_type": "markdown",
   "id": "f640e79f-9cc3-4433-8272-d83969291dcf",
   "metadata": {},
   "source": [
    "----"
   ]
  },
  {
   "cell_type": "code",
   "execution_count": null,
   "id": "83f2e780-b719-4ba8-aa95-a1a5422aeca1",
   "metadata": {},
   "outputs": [],
   "source": [
    "utils.print_date(5)"
   ]
  },
  {
   "cell_type": "code",
   "execution_count": null,
   "id": "b6ccfd03-9845-455a-bfed-449d816af08d",
   "metadata": {},
   "outputs": [],
   "source": [
    "utils.save_notebook_as_html(file_name='cnr-04-cc3', cleaning_delay=2)"
   ]
  }
 ],
 "metadata": {
  "kernelspec": {
   "display_name": "tumor-cnr",
   "language": "python",
   "name": "tumor-cnr"
  },
  "language_info": {
   "codemirror_mode": {
    "name": "ipython",
    "version": 3
   },
   "file_extension": ".py",
   "mimetype": "text/x-python",
   "name": "python",
   "nbconvert_exporter": "python",
   "pygments_lexer": "ipython3",
   "version": "3.8.12"
  }
 },
 "nbformat": 4,
 "nbformat_minor": 5
}
