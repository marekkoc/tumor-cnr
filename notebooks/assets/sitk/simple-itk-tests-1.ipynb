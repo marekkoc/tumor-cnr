{
 "cells": [
  {
   "cell_type": "markdown",
   "id": "d287056d-536c-4a5c-a594-e72e469cd7e3",
   "metadata": {},
   "source": [
    "# SimpleITK\n",
    "\n",
    "\n",
    "Created: 2021.11.12 / Updated: 2021.11.12"
   ]
  },
  {
   "cell_type": "code",
   "execution_count": 81,
   "id": "b5610839-76a2-4bbd-8665-206b35016c3c",
   "metadata": {},
   "outputs": [
    {
     "name": "stdout",
     "output_type": "stream",
     "text": [
      "The autoreload extension is already loaded. To reload it, use:\n",
      "  %reload_ext autoreload\n"
     ]
    }
   ],
   "source": [
    "%load_ext autoreload\n",
    "%autoreload 2"
   ]
  },
  {
   "cell_type": "code",
   "execution_count": 82,
   "id": "800810c5-2f3f-4040-83de-5dc5c18ff383",
   "metadata": {},
   "outputs": [],
   "source": [
    "%matplotlib inline\n",
    "\n",
    "import os\n",
    "import sys\n",
    "import pathlib\n",
    "import glob\n",
    "\n",
    "import numpy as np\n",
    "import pandas as pd\n",
    "import nibabel as nib\n",
    "import matplotlib.pyplot as plt"
   ]
  },
  {
   "cell_type": "code",
   "execution_count": 83,
   "id": "0f437f11-303d-4a3e-81eb-5547789002ba",
   "metadata": {},
   "outputs": [],
   "source": [
    "# add path to our moudles\n",
    "sys.path.append(os.getcwd().split('assets')[0])\n",
    "\n",
    "\n",
    "import utils\n",
    "import functions1 as f1"
   ]
  },
  {
   "cell_type": "markdown",
   "id": "ebce86ef-ecc9-45e6-bc89-d38326ba8283",
   "metadata": {},
   "source": [
    "# GLOBAL VARIABLES"
   ]
  },
  {
   "cell_type": "code",
   "execution_count": 84,
   "id": "d60c0284-6a8f-4e09-9ec8-74098b2f4d5b",
   "metadata": {},
   "outputs": [],
   "source": [
    "HOME_DIR = pathlib.Path(os.getcwd()).parent.parent.parent\n",
    "DATA_DIR = HOME_DIR / 'data'\n",
    "RESULTS_DIR = DATA_DIR / 'results'\n",
    "\n",
    "SUB = 'CC3'"
   ]
  },
  {
   "cell_type": "markdown",
   "id": "0ea90e79-f7fd-42e7-9e19-0f2401aa8b8b",
   "metadata": {},
   "source": [
    "---"
   ]
  },
  {
   "cell_type": "markdown",
   "id": "c263ac43-a274-4516-bac8-165d2a7ff1a1",
   "metadata": {},
   "source": [
    "# GET LIST ALL CC3 IMAGES"
   ]
  },
  {
   "cell_type": "code",
   "execution_count": 85,
   "id": "59d9aa4b-9e24-4ac2-b211-c2928529cacc",
   "metadata": {},
   "outputs": [],
   "source": [
    "files = list(RESULTS_DIR.glob(f\"*{SUB}*.nii.gz\"))\n",
    "# files"
   ]
  },
  {
   "cell_type": "code",
   "execution_count": 86,
   "id": "3c49e1a8-8e5f-41ca-94d7-f194b41e78f3",
   "metadata": {},
   "outputs": [
    {
     "name": "stdout",
     "output_type": "stream",
     "text": [
      "1) CC3_t2.nii.gz\n",
      "2) CC3_t2_roi.nii.gz\n",
      "3) CC3_t2_roi_cm.nii.gz\n",
      "4) CC3_t2_roi_dilated2.nii.gz\n",
      "5) CC3_t2_roi_dilated_ball3.nii.gz\n"
     ]
    }
   ],
   "source": [
    "# print only names\n",
    "_ = [print(f'{k+1}) {f.name}') for k, f in enumerate(sorted(files))]"
   ]
  },
  {
   "cell_type": "markdown",
   "id": "159f5e8f-d68a-4c51-9b78-24ef8ae23d23",
   "metadata": {},
   "source": [
    "## LOAD ALL IMAGES"
   ]
  },
  {
   "cell_type": "code",
   "execution_count": 87,
   "id": "073931ca-6f68-498b-b198-53543b6a2698",
   "metadata": {},
   "outputs": [],
   "source": [
    "# image\n",
    "img = nib.load(RESULTS_DIR / f'{SUB}_t2.nii.gz').get_fdata()\n",
    "# roi\n",
    "roi = nib.load(RESULTS_DIR / f'{SUB}_t2_roi.nii.gz').get_fdata()\n",
    "# dilated 2\n",
    "dil2 = nib.load(RESULTS_DIR / f'{SUB}_t2_roi_dilated2.nii.gz').get_fdata()\n",
    "# ball3\n",
    "bal3 = nib.load(RESULTS_DIR / f'{SUB}_t2_roi_dilated_ball3.nii.gz').get_fdata()"
   ]
  },
  {
   "cell_type": "markdown",
   "id": "1ebb6730-ceb3-4a6c-9bb0-d976e17ef71f",
   "metadata": {},
   "source": [
    "### CREATE LIST OFLOADED IMAGES AND LIST OF THEIR NAMES"
   ]
  },
  {
   "cell_type": "code",
   "execution_count": 88,
   "id": "9f338c3f-55ce-4e7c-8c15-9911a3a4a14d",
   "metadata": {},
   "outputs": [
    {
     "name": "stdout",
     "output_type": "stream",
     "text": [
      "*** IMG ***,\tmax=1640.0, min=0.0, aver=443.37, shape=(320, 320, 28), dtype=float64\n"
     ]
    }
   ],
   "source": [
    "f1.im_info(img, 'img')"
   ]
  },
  {
   "cell_type": "markdown",
   "id": "afd22c8a-e411-45e7-ad9e-246095f4652c",
   "metadata": {},
   "source": [
    "# SimpleITK"
   ]
  },
  {
   "cell_type": "markdown",
   "id": "b7802090",
   "metadata": {},
   "source": [
    "[Welcome to the first SimpleITK Notebook demo](http://insightsoftwareconsortium.github.io/SimpleITK-Notebooks/Python_html/01_Image_Basics.html)\n",
    "\n",
    "[Welcome to the SimpleITK Image Filtering Tutorial](https://notebook.community/5x5x5x5/ReproTutorial/notebooks/01-SimpleITK-Filtering)"
   ]
  },
  {
   "cell_type": "code",
   "execution_count": 89,
   "id": "e00d74d9-bf50-4e5b-8db9-3ad5cdc4bdf3",
   "metadata": {},
   "outputs": [],
   "source": [
    "import SimpleITK as sitk"
   ]
  },
  {
   "cell_type": "code",
   "execution_count": 90,
   "id": "6ff22355",
   "metadata": {},
   "outputs": [],
   "source": [
    "file = str(RESULTS_DIR / f'{SUB}_t2.nii.gz')"
   ]
  },
  {
   "cell_type": "code",
   "execution_count": 91,
   "id": "fbee7480-4cb7-4014-bb35-0a19f48cad88",
   "metadata": {},
   "outputs": [],
   "source": [
    "image = sitk.ReadImage(file)\n",
    "# and access the numpy array:\n",
    "image_npy = sitk.GetArrayFromImage(image)"
   ]
  },
  {
   "cell_type": "code",
   "execution_count": 92,
   "id": "35fa9057-172e-406d-a27f-6c59db3a79af",
   "metadata": {},
   "outputs": [
    {
     "name": "stdout",
     "output_type": "stream",
     "text": [
      "*** NUMPY FROM SIMPLE-ITK ***,\tmax=1640, min=0, aver=443.37, shape=(28, 320, 320), dtype=int16\n"
     ]
    }
   ],
   "source": [
    "f1.im_info(image_npy, 'Numpy from simple-itk')"
   ]
  },
  {
   "cell_type": "markdown",
   "id": "3475e4ad",
   "metadata": {},
   "source": [
    "# Some functions"
   ]
  },
  {
   "cell_type": "code",
   "execution_count": 93,
   "id": "1f6c7a32-8a31-404d-89e9-928de54ba9e7",
   "metadata": {},
   "outputs": [
    {
     "name": "stdout",
     "output_type": "stream",
     "text": [
      "(320, 320, 28)\n",
      "(-102.15779876708984, 131.65707397460938, -34.08609390258789)\n",
      "(0.625, 0.625, 3.299999952316284)\n",
      "(1.0, 4.896999819536952e-12, 0.0, 4.896999819536952e-12, -1.0, 0.0, 0.0, 0.0, 1.0)\n",
      "1\n"
     ]
    }
   ],
   "source": [
    "print(image.GetSize())\n",
    "print(image.GetOrigin())\n",
    "print(image.GetSpacing())\n",
    "print(image.GetDirection())\n",
    "print(image.GetNumberOfComponentsPerPixel())"
   ]
  },
  {
   "cell_type": "code",
   "execution_count": 94,
   "id": "e70aaf4b-7084-4826-97d3-0b5c4136eff0",
   "metadata": {},
   "outputs": [
    {
     "name": "stdout",
     "output_type": "stream",
     "text": [
      "320\n",
      "320\n",
      "28\n"
     ]
    }
   ],
   "source": [
    "print(image.GetWidth())\n",
    "print(image.GetHeight())\n",
    "print(image.GetDepth())"
   ]
  },
  {
   "cell_type": "code",
   "execution_count": 95,
   "id": "9095aaa3-ec97-482c-ba72-b2bf42edfc3c",
   "metadata": {},
   "outputs": [
    {
     "name": "stdout",
     "output_type": "stream",
     "text": [
      "3\n",
      "2\n",
      "16-bit signed integer\n"
     ]
    }
   ],
   "source": [
    "print(image.GetDimension())\n",
    "print(image.GetPixelIDValue())\n",
    "print(image.GetPixelIDTypeAsString())"
   ]
  },
  {
   "cell_type": "markdown",
   "id": "4712fa0f",
   "metadata": {},
   "source": [
    "# Min-Max filter"
   ]
  },
  {
   "cell_type": "code",
   "execution_count": 96,
   "id": "3d926e1d-5f00-4414-91a7-2ab1af049288",
   "metadata": {},
   "outputs": [
    {
     "name": "stdout",
     "output_type": "stream",
     "text": [
      "1640.0\n",
      "0.0\n"
     ]
    }
   ],
   "source": [
    "filter = sitk.MinimumMaximumImageFilter();\n",
    "filter.Execute(image);\n",
    "print(filter.GetMaximum())\n",
    "print(filter.GetMinimum())"
   ]
  },
  {
   "cell_type": "markdown",
   "id": "a8f067ed",
   "metadata": {},
   "source": [
    "# Statistic filter"
   ]
  },
  {
   "cell_type": "code",
   "execution_count": 97,
   "id": "02b4cf2e-aac2-4d01-88ac-0eeb4af5a137",
   "metadata": {},
   "outputs": [
    {
     "name": "stdout",
     "output_type": "stream",
     "text": [
      "1640.0\n",
      "0.0\n",
      "443.36615687779016\n",
      "326.62648059582176\n"
     ]
    }
   ],
   "source": [
    "stat = sitk.StatisticsImageFilter()\n",
    "stat.Execute(image)\n",
    "print(stat.GetMaximum())\n",
    "print(stat.GetMinimum())\n",
    "print(stat.GetMean())\n",
    "print(stat.GetSigma())"
   ]
  },
  {
   "cell_type": "markdown",
   "id": "10c545d2",
   "metadata": {},
   "source": [
    "# Normalization"
   ]
  },
  {
   "cell_type": "code",
   "execution_count": 98,
   "id": "65ae3ff8-2469-4780-ad82-01d6366ec939",
   "metadata": {},
   "outputs": [
    {
     "name": "stdout",
     "output_type": "stream",
     "text": [
      "3.663615518678547\n",
      "-1.3574103240772628\n",
      "4.4408920985006264e-17\n",
      "0.9999999999999998\n"
     ]
    }
   ],
   "source": [
    "norm = sitk.NormalizeImageFilter()\n",
    "normalized = norm.Execute(image)\n",
    "#stat2 = sitk.StatisticsImageFilter()\n",
    "stat.Execute(normalized)\n",
    "print(stat.GetMaximum())\n",
    "print(stat.GetMinimum())\n",
    "print(stat.GetMean())\n",
    "print(stat.GetSigma())"
   ]
  },
  {
   "cell_type": "code",
   "execution_count": 99,
   "id": "b6ccfd03-9845-455a-bfed-449d816af08d",
   "metadata": {},
   "outputs": [
    {
     "name": "stdout",
     "output_type": "stream",
     "text": [
      "12-Nov-2021 15:28:31\n"
     ]
    }
   ],
   "source": [
    "utils.print_date(5)"
   ]
  },
  {
   "cell_type": "code",
   "execution_count": 100,
   "id": "803e6ffa",
   "metadata": {},
   "outputs": [],
   "source": [
    "utils.save_notebook_as_html(file_name='simple-itk-tests-1', cleaning_delay=2)"
   ]
  },
  {
   "cell_type": "code",
   "execution_count": null,
   "id": "2777344b",
   "metadata": {},
   "outputs": [],
   "source": []
  },
  {
   "cell_type": "code",
   "execution_count": null,
   "id": "012b57f8",
   "metadata": {},
   "outputs": [],
   "source": []
  }
 ],
 "metadata": {
  "kernelspec": {
   "display_name": "tumor-cnr",
   "language": "python",
   "name": "tumor-cnr"
  },
  "language_info": {
   "codemirror_mode": {
    "name": "ipython",
    "version": 3
   },
   "file_extension": ".py",
   "mimetype": "text/x-python",
   "name": "python",
   "nbconvert_exporter": "python",
   "pygments_lexer": "ipython3",
   "version": "3.8.12"
  }
 },
 "nbformat": 4,
 "nbformat_minor": 5
}
