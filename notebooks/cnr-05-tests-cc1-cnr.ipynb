{
 "cells": [
  {
   "cell_type": "markdown",
   "id": "d287056d-536c-4a5c-a594-e72e469cd7e3",
   "metadata": {},
   "source": [
    "# TUMOR - CNR - Statistics information about ROIs\n",
    "\n",
    "\n",
    "Created: 2021.11.24 / Updated: 2021.11.28"
   ]
  },
  {
   "cell_type": "code",
   "execution_count": 8,
   "id": "b5610839-76a2-4bbd-8665-206b35016c3c",
   "metadata": {},
   "outputs": [
    {
     "name": "stdout",
     "output_type": "stream",
     "text": [
      "The autoreload extension is already loaded. To reload it, use:\n",
      "  %reload_ext autoreload\n"
     ]
    }
   ],
   "source": [
    "%load_ext autoreload\n",
    "%autoreload 2"
   ]
  },
  {
   "cell_type": "code",
   "execution_count": 9,
   "id": "800810c5-2f3f-4040-83de-5dc5c18ff383",
   "metadata": {},
   "outputs": [],
   "source": [
    "%matplotlib inline\n",
    "\n",
    "import os\n",
    "import pathlib\n",
    "import glob\n",
    "\n",
    "import numpy as np\n",
    "import pandas as pd\n",
    "import nibabel as nib\n",
    "import matplotlib.pyplot as plt"
   ]
  },
  {
   "cell_type": "code",
   "execution_count": 10,
   "id": "0f437f11-303d-4a3e-81eb-5547789002ba",
   "metadata": {},
   "outputs": [],
   "source": [
    "import utils\n",
    "import functions1 as f1"
   ]
  },
  {
   "cell_type": "markdown",
   "id": "ebce86ef-ecc9-45e6-bc89-d38326ba8283",
   "metadata": {},
   "source": [
    "# GLOBAL VARIABLES"
   ]
  },
  {
   "cell_type": "code",
   "execution_count": 11,
   "id": "d60c0284-6a8f-4e09-9ec8-74098b2f4d5b",
   "metadata": {},
   "outputs": [],
   "source": [
    "HOME_DIR = pathlib.Path(os.getcwd()).parent\n",
    "DATA_DIR = HOME_DIR / 'data'\n",
    "RESULTS_DIR = DATA_DIR / 'results'\n",
    "\n",
    "SUB = 'CC1'"
   ]
  },
  {
   "cell_type": "markdown",
   "id": "0ea90e79-f7fd-42e7-9e19-0f2401aa8b8b",
   "metadata": {},
   "source": [
    "---"
   ]
  },
  {
   "cell_type": "markdown",
   "id": "497e8613-ce3e-499b-9a96-6068cf84a07a",
   "metadata": {},
   "source": [
    "# OUR FUNCTIONS"
   ]
  },
  {
   "cell_type": "code",
   "execution_count": 12,
   "id": "aac1b87e-627e-45b9-9499-91fc28dfedea",
   "metadata": {},
   "outputs": [],
   "source": [
    "def info(vox_inside_sth, name='Some roi'):\n",
    "    print(80*'*')\n",
    "    print(f' *** {name} ***')\n",
    "    print(vox_inside_sth.shape)\n",
    "    print(f'mean: {vox_inside_sth.mean():.3f}')\n",
    "    print(f'max: {vox_inside_sth.max()}')\n",
    "    print(f'min: {vox_inside_sth.min()}')\n",
    "    print(f'std: {vox_inside_sth.std():.4f}')"
   ]
  },
  {
   "cell_type": "code",
   "execution_count": null,
   "id": "106885b3-4a0e-44ad-8295-fa696c020247",
   "metadata": {},
   "outputs": [],
   "source": [
    "def load_images_for_subject(sub_name, folder=RESULTS_DIR):\n",
    "    \"\"\"\n",
    "    Loades images for a subject:\n",
    "    \n",
    "    Parameters:\n",
    "    -------------------------------\n",
    "    sub_name - subject prefix, e.g., 'CC1'\n",
    "    folder - path to the folter with images, by default it is RESULTS_DIR (./data/results).\n",
    "    \n",
    "    Returns:\n",
    "    -------------------------------\n",
    "    img - loaded image,\n",
    "    roi - loaded roi image,\n",
    "    bla - loaded bladder image\n",
    "    \n",
    "    C: 2021.11.28 / U: 2021.11.28\n",
    "    \"\"\"\n",
    "    img = nib.load(RESULTS_DIR / f'{sub_name}_t2.nii.gz')\n",
    "    roi = nib.load(RESULTS_DIR / f'{sub_name}_t2_roi.nii.gz')\n",
    "    bla = nib.load(RESULTS_DIR / f'{sub_name}_t2_bladder.nii.gz')"
   ]
  },
  {
   "cell_type": "markdown",
   "id": "113c47fb-5d62-4b47-992e-f69c2a0cfcb4",
   "metadata": {},
   "source": [
    "---"
   ]
  },
  {
   "cell_type": "markdown",
   "id": "c263ac43-a274-4516-bac8-165d2a7ff1a1",
   "metadata": {},
   "source": [
    "# GET LIST ALL CC1 IMAGES"
   ]
  },
  {
   "cell_type": "code",
   "execution_count": 5,
   "id": "59d9aa4b-9e24-4ac2-b211-c2928529cacc",
   "metadata": {},
   "outputs": [
    {
     "data": {
      "text/plain": [
       "[PosixPath('/home/marek/Dropbox/p1ext4_P/no_work/TUMOR-CNR/tumor-cnr-git/data/results/CC1_t2_roi.nii.gz'),\n",
       " PosixPath('/home/marek/Dropbox/p1ext4_P/no_work/TUMOR-CNR/tumor-cnr-git/data/results/CC1_t2_roi_dilated_ball2.nii.gz'),\n",
       " PosixPath('/home/marek/Dropbox/p1ext4_P/no_work/TUMOR-CNR/tumor-cnr-git/data/results/CC1_t2_roi_dilated2.nii.gz'),\n",
       " PosixPath('/home/marek/Dropbox/p1ext4_P/no_work/TUMOR-CNR/tumor-cnr-git/data/results/CC1_t2_roi_dilated_ball3.nii.gz'),\n",
       " PosixPath('/home/marek/Dropbox/p1ext4_P/no_work/TUMOR-CNR/tumor-cnr-git/data/results/CC1_t2_roi_dilated_ball5.nii.gz'),\n",
       " PosixPath('/home/marek/Dropbox/p1ext4_P/no_work/TUMOR-CNR/tumor-cnr-git/data/results/CC1_t2_roi_dilated1.nii.gz'),\n",
       " PosixPath('/home/marek/Dropbox/p1ext4_P/no_work/TUMOR-CNR/tumor-cnr-git/data/results/CC1_t2_bladder.nii.gz'),\n",
       " PosixPath('/home/marek/Dropbox/p1ext4_P/no_work/TUMOR-CNR/tumor-cnr-git/data/results/CC1_t2.nii.gz'),\n",
       " PosixPath('/home/marek/Dropbox/p1ext4_P/no_work/TUMOR-CNR/tumor-cnr-git/data/results/CC1_t2_roi_cm.nii.gz')]"
      ]
     },
     "execution_count": 5,
     "metadata": {},
     "output_type": "execute_result"
    }
   ],
   "source": [
    "files = list(RESULTS_DIR.glob(f\"*{SUB}*.nii.gz\"))\n",
    "files"
   ]
  },
  {
   "cell_type": "code",
   "execution_count": 6,
   "id": "3c49e1a8-8e5f-41ca-94d7-f194b41e78f3",
   "metadata": {},
   "outputs": [
    {
     "name": "stdout",
     "output_type": "stream",
     "text": [
      "1) CC1_t2.nii.gz\n",
      "2) CC1_t2_bladder.nii.gz\n",
      "3) CC1_t2_roi.nii.gz\n",
      "4) CC1_t2_roi_cm.nii.gz\n",
      "5) CC1_t2_roi_dilated1.nii.gz\n",
      "6) CC1_t2_roi_dilated2.nii.gz\n",
      "7) CC1_t2_roi_dilated_ball2.nii.gz\n",
      "8) CC1_t2_roi_dilated_ball3.nii.gz\n",
      "9) CC1_t2_roi_dilated_ball5.nii.gz\n"
     ]
    }
   ],
   "source": [
    "# print only names\n",
    "_ = [print(f'{k+1}) {f.name}') for k, f in enumerate(sorted(files))]"
   ]
  },
  {
   "cell_type": "markdown",
   "id": "159f5e8f-d68a-4c51-9b78-24ef8ae23d23",
   "metadata": {},
   "source": [
    "## LOAD ALL IMAGES"
   ]
  },
  {
   "cell_type": "code",
   "execution_count": 8,
   "id": "073931ca-6f68-498b-b198-53543b6a2698",
   "metadata": {},
   "outputs": [],
   "source": [
    "# nii structure\n",
    "nii = nib.load(RESULTS_DIR / 'CC1_t2.nii.gz')\n",
    "# image\n",
    "img = nii.get_fdata()\n",
    "# roi\n",
    "roi = nib.load(RESULTS_DIR / 'CC1_t2_roi.nii.gz').get_fdata()\n",
    "# dilated 1\n",
    "dil1 = nib.load(RESULTS_DIR / 'CC1_t2_roi_dilated1.nii.gz').get_fdata()\n",
    "# dilated 2\n",
    "dil2 = nib.load(RESULTS_DIR / 'CC1_t2_roi_dilated2.nii.gz').get_fdata()\n",
    "# ball2\n",
    "bal2 = nib.load(RESULTS_DIR / 'CC1_t2_roi_dilated_ball2.nii.gz').get_fdata()\n",
    "# ball3\n",
    "bal3 = nib.load(RESULTS_DIR / 'CC1_t2_roi_dilated_ball3.nii.gz').get_fdata()\n",
    "# ball5\n",
    "bal5 = nib.load(RESULTS_DIR / 'CC1_t2_roi_dilated_ball5.nii.gz').get_fdata()\n",
    "# bladder\n",
    "blad = nib.load(RESULTS_DIR / 'CC1_t2_bladder.nii.gz').get_fdata()"
   ]
  },
  {
   "cell_type": "code",
   "execution_count": 9,
   "id": "94505ace-ed81-4b14-86a5-47c9a9b6b4f1",
   "metadata": {},
   "outputs": [],
   "source": [
    "rim = bal5 - roi"
   ]
  },
  {
   "cell_type": "code",
   "execution_count": 10,
   "id": "6dc72872-653e-4c36-a5c8-0f3d8d600817",
   "metadata": {},
   "outputs": [
    {
     "name": "stdout",
     "output_type": "stream",
     "text": [
      "*** IMAGE ***,\tmax=988.0, min=0.0, aver=252.81, shape=(320, 320, 25), dtype=float64\n",
      "*** ROI ***,\tmax=1.0, min=0.0, aver=0.00, shape=(320, 320, 25), dtype=float64\n",
      "*** BALL5 ***,\tmax=1.0, min=0.0, aver=0.02, shape=(320, 320, 25), dtype=float64\n",
      "*** BLADDER ***,\tmax=1.0, min=0.0, aver=0.00, shape=(320, 320, 25), dtype=float64\n",
      "*** RIM ***,\tmax=1.0, min=0.0, aver=0.01, shape=(320, 320, 25), dtype=float64\n"
     ]
    }
   ],
   "source": [
    "f1.im_info(img, 'Image')\n",
    "f1.im_info(roi, 'ROI')\n",
    "f1.im_info(bal5, 'Ball5')\n",
    "f1.im_info(blad, 'Bladder')\n",
    "f1.im_info(rim, 'rim')"
   ]
  },
  {
   "cell_type": "code",
   "execution_count": 11,
   "id": "c39f0165-56b9-42cf-92de-08e7f5b6291c",
   "metadata": {},
   "outputs": [],
   "source": [
    "vox_inside_roi = np.where(roi,img,0)"
   ]
  },
  {
   "cell_type": "code",
   "execution_count": 12,
   "id": "f8bf3bca-3d00-4826-86c2-2ac1730c5915",
   "metadata": {},
   "outputs": [
    {
     "data": {
      "text/plain": [
       "(320, 320, 25)"
      ]
     },
     "execution_count": 12,
     "metadata": {},
     "output_type": "execute_result"
    }
   ],
   "source": [
    "vox_inside_roi.shape"
   ]
  },
  {
   "cell_type": "code",
   "execution_count": 13,
   "id": "49d6565c-da48-4930-a630-dd7c23e6dd02",
   "metadata": {},
   "outputs": [
    {
     "data": {
      "image/png": "[encoded data removed]",
      "text/plain": [
       "<Figure size 1296x864 with 1 Axes>"
      ]
     },
     "metadata": {
      "needs_background": "light"
     },
     "output_type": "display_data"
    }
   ],
   "source": [
    "plt.figure(figsize=(18,12))\n",
    "plt.imshow(vox_inside_roi[:,:,12])\n",
    "plt.show()"
   ]
  },
  {
   "cell_type": "code",
   "execution_count": 14,
   "id": "23a2f945-578a-435a-98f0-c7791e429462",
   "metadata": {},
   "outputs": [
    {
     "name": "stdout",
     "output_type": "stream",
     "text": [
      "(9180,)\n",
      "mean: 168.945\n",
      "max: 507.0\n",
      "min: 0.0\n"
     ]
    }
   ],
   "source": [
    "vox_inside_roi2 = img[roi==1]\n",
    "print(vox_inside_roi2.shape)\n",
    "print(f'mean: {vox_inside_roi2.mean():.3f}')\n",
    "print(f'max: {vox_inside_roi2.max()}')\n",
    "print(f'min: {vox_inside_roi2.min()}')"
   ]
  },
  {
   "cell_type": "code",
   "execution_count": 15,
   "id": "fd305d2c-6f0b-4117-abcd-4d8bb01a702c",
   "metadata": {},
   "outputs": [
    {
     "name": "stdout",
     "output_type": "stream",
     "text": [
      "(38796,)\n",
      "mean: 256.686\n",
      "max: 801.0\n",
      "min: 0.0\n"
     ]
    }
   ],
   "source": [
    "vox_inside_bal5 = img[bal5==1]\n",
    "print(vox_inside_bal5.shape)\n",
    "print(f'mean: {vox_inside_bal5.mean():.3f}')\n",
    "print(f'max: {vox_inside_bal5.max()}')\n",
    "print(f'min: {vox_inside_bal5.min()}')"
   ]
  },
  {
   "cell_type": "code",
   "execution_count": null,
   "id": "6dc0f7b2-9166-4e8f-a201-ea4e3c1fd6df",
   "metadata": {},
   "outputs": [],
   "source": []
  },
  {
   "cell_type": "code",
   "execution_count": 16,
   "id": "c8594767-c78b-41c8-8ca1-26f515442475",
   "metadata": {},
   "outputs": [],
   "source": []
  },
  {
   "cell_type": "code",
   "execution_count": 21,
   "id": "4bd231ce-62aa-4473-89e2-c324e304dae1",
   "metadata": {},
   "outputs": [],
   "source": [
    "vox_inside_rim = img[rim==1]\n",
    "vox_inside_bladder = img[blad==1]"
   ]
  },
  {
   "cell_type": "code",
   "execution_count": 22,
   "id": "a2c46533-029e-41aa-8b83-e0125b2c6572",
   "metadata": {},
   "outputs": [
    {
     "name": "stdout",
     "output_type": "stream",
     "text": [
      "********************************************************************************\n",
      " *** ROI ***\n",
      "(9180,)\n",
      "mean: 168.945\n",
      "max: 507.0\n",
      "min: 0.0\n",
      "std: 79.0200\n",
      "********************************************************************************\n",
      " *** bal5 ***\n",
      "(38796,)\n",
      "mean: 256.686\n",
      "max: 801.0\n",
      "min: 0.0\n",
      "std: 149.1830\n",
      "********************************************************************************\n",
      " *** rim ***\n",
      "(29616,)\n",
      "mean: 283.883\n",
      "max: 801.0\n",
      "min: 0.0\n",
      "std: 155.2180\n",
      "********************************************************************************\n",
      " *** bladder ***\n",
      "(1572,)\n",
      "mean: 378.782\n",
      "max: 462.0\n",
      "min: 294.0\n",
      "std: 26.6800\n"
     ]
    }
   ],
   "source": [
    "info(vox_inside_roi2, 'ROI')\n",
    "info(vox_inside_bal5, 'bal5')\n",
    "info(vox_inside_rim, 'rim')\n",
    "\n",
    "info(vox_inside_bladder, 'bladder')"
   ]
  },
  {
   "cell_type": "code",
   "execution_count": 23,
   "id": "7951cf88-3032-4e31-8f07-aa0d4281225f",
   "metadata": {},
   "outputs": [
    {
     "name": "stdout",
     "output_type": "stream",
     "text": [
      "CNR=-4.308\n"
     ]
    }
   ],
   "source": [
    "CNR_std = (vox_inside_roi2.mean() - vox_inside_rim.mean()) / vox_inside_bladder.std()\n",
    "print(f'CNR={CNR_std:.3f}')"
   ]
  },
  {
   "cell_type": "code",
   "execution_count": 24,
   "id": "e0854a1d-cf8e-411c-963b-494bb182ef63",
   "metadata": {},
   "outputs": [
    {
     "name": "stdout",
     "output_type": "stream",
     "text": [
      "CNR=-0.303\n"
     ]
    }
   ],
   "source": [
    "CNR_mean = (vox_inside_roi2.mean() - vox_inside_rim.mean()) / vox_inside_bladder.mean()\n",
    "print(f'CNR={CNR_mean:.3f}')"
   ]
  },
  {
   "cell_type": "markdown",
   "id": "85c65f0e-0172-4fbf-ac39-1608b80d44bf",
   "metadata": {},
   "source": [
    "----"
   ]
  },
  {
   "cell_type": "markdown",
   "id": "4bb7fcf8-c73f-4a86-b77e-c858b5119b2d",
   "metadata": {},
   "source": [
    "# CNR for all subjects"
   ]
  },
  {
   "cell_type": "markdown",
   "id": "6fd87ef9-5ce6-4365-b0b7-c3849a3c1bc1",
   "metadata": {},
   "source": [
    "## CC1"
   ]
  },
  {
   "cell_type": "code",
   "execution_count": null,
   "id": "bf267c83-0ba0-4bcc-aedd-7cb6d531244b",
   "metadata": {},
   "outputs": [],
   "source": []
  },
  {
   "cell_type": "code",
   "execution_count": 60,
   "id": "696e25e2-29b1-4e14-80de-fa4a92502402",
   "metadata": {},
   "outputs": [],
   "source": [
    "def CNRs(sub1):\n",
    "    \"\"\"\n",
    "    C: 2021..11.26 / U: 2021.11.26\n",
    "    \"\"\"\n",
    "    # nii structure\n",
    "    nii = nib.load(RESULTS_DIR / f'{sub1}_t2.nii.gz')\n",
    "    # image\n",
    "    img = nii.get_fdata()\n",
    "    # roi\n",
    "    roi = nib.load(RESULTS_DIR / f'{sub1}_t2_roi.nii.gz').get_fdata()\n",
    "    # dilated 2\n",
    "    dil2 = nib.load(RESULTS_DIR / f'{sub1}_t2_roi_dilated2.nii.gz').get_fdata()\n",
    "    # ball3\n",
    "    bal3 = nib.load(RESULTS_DIR / f'{sub1}_t2_roi_dilated_ball3.nii.gz').get_fdata()\n",
    "    # bladder\n",
    "    blad = nib.load(RESULTS_DIR / f'{sub1}_t2_bladder.nii.gz').get_fdata()\n",
    "\n",
    "    rim = bal3 - roi\n",
    "\n",
    "    vox_inside_roi = np.where(roi,img,0)\n",
    "\n",
    "    vox_inside_rim = img[rim==1]\n",
    "    vox_inside_bladder = img[blad==1]\n",
    "\n",
    "    print(f' *** {sub1} ***')\n",
    "    \n",
    "    \n",
    "    cc = [vox_inside_roi.mean(), vox_inside_rim.mean(),vox_inside_bladder.mean()]\n",
    "    df = {sub1:cc}\n",
    "    tab = pd.DataFrame.from_dict(df)\n",
    "    \n",
    "    print(f'\\troi mean: {vox_inside_roi.mean():.2f}, std: {vox_inside_roi.std():.3f}')\n",
    "    print(f'\\trim mean: {vox_inside_rim.mean():.2f}, std: {vox_inside_rim.std():.3f}')\n",
    "    print(f'\\tbla mean: {vox_inside_bladder.mean():.2f}, std:{vox_inside_bladder.std():.3f}')\n",
    "    \n",
    "    print()\n",
    "    CNR_std = (vox_inside_roi2.mean() - vox_inside_rim.mean()) / vox_inside_bladder.std()\n",
    "    print(f'\\tCNR_std = {CNR_std:.3f}')\n",
    "\n",
    "    CNR_mean = (vox_inside_roi2.mean() - vox_inside_rim.mean()) / vox_inside_bladder.mean()\n",
    "    print(f'\\tCNR_mean = {CNR_mean:.3f}')\n",
    "    \n",
    "    print(80*'*')\n",
    "    return tab"
   ]
  },
  {
   "cell_type": "code",
   "execution_count": 64,
   "id": "f4d8d213-19ea-4561-9ab1-5720d128a310",
   "metadata": {},
   "outputs": [
    {
     "name": "stdout",
     "output_type": "stream",
     "text": [
      " *** CC1 ***\n",
      "\troi mean: 0.61, std: 11.152\n",
      "\trim mean: 299.73, std: 170.820\n",
      "\tbla mean: 378.78, std:26.680\n",
      "\n",
      "\tCNR_std = -4.902\n",
      "\tCNR_mean = -0.345\n",
      "********************************************************************************\n"
     ]
    },
    {
     "data": {
      "text/html": [
       "<div>\n",
       "<style scoped>\n",
       "    .dataframe tbody tr th:only-of-type {\n",
       "        vertical-align: middle;\n",
       "    }\n",
       "\n",
       "    .dataframe tbody tr th {\n",
       "        vertical-align: top;\n",
       "    }\n",
       "\n",
       "    .dataframe thead th {\n",
       "        text-align: right;\n",
       "    }\n",
       "</style>\n",
       "<table border=\"1\" class=\"dataframe\">\n",
       "  <thead>\n",
       "    <tr style=\"text-align: right;\">\n",
       "      <th></th>\n",
       "      <th>CC1</th>\n",
       "    </tr>\n",
       "  </thead>\n",
       "  <tbody>\n",
       "    <tr>\n",
       "      <th>0</th>\n",
       "      <td>0.605825</td>\n",
       "    </tr>\n",
       "    <tr>\n",
       "      <th>1</th>\n",
       "      <td>299.732633</td>\n",
       "    </tr>\n",
       "    <tr>\n",
       "      <th>2</th>\n",
       "      <td>378.782443</td>\n",
       "    </tr>\n",
       "  </tbody>\n",
       "</table>\n",
       "</div>"
      ],
      "text/plain": [
       "          CC1\n",
       "0    0.605825\n",
       "1  299.732633\n",
       "2  378.782443"
      ]
     },
     "execution_count": 64,
     "metadata": {},
     "output_type": "execute_result"
    }
   ],
   "source": [
    "t = CNRs('CC1')\n",
    "t"
   ]
  },
  {
   "cell_type": "code",
   "execution_count": 65,
   "id": "63cd6af8-0964-483f-947e-f071a396a96d",
   "metadata": {},
   "outputs": [
    {
     "name": "stdout",
     "output_type": "stream",
     "text": [
      " *** CC2 ***\n",
      "\troi mean: 0.12, std: 7.086\n",
      "\trim mean: 279.99, std: 165.265\n",
      "\tbla mean: 628.98, std:16.266\n",
      "\n",
      "\tCNR_std = -6.827\n",
      "\tCNR_mean = -0.177\n",
      "********************************************************************************\n"
     ]
    },
    {
     "data": {
      "text/html": [
       "<div>\n",
       "<style scoped>\n",
       "    .dataframe tbody tr th:only-of-type {\n",
       "        vertical-align: middle;\n",
       "    }\n",
       "\n",
       "    .dataframe tbody tr th {\n",
       "        vertical-align: top;\n",
       "    }\n",
       "\n",
       "    .dataframe thead th {\n",
       "        text-align: right;\n",
       "    }\n",
       "</style>\n",
       "<table border=\"1\" class=\"dataframe\">\n",
       "  <thead>\n",
       "    <tr style=\"text-align: right;\">\n",
       "      <th></th>\n",
       "      <th>CC2</th>\n",
       "    </tr>\n",
       "  </thead>\n",
       "  <tbody>\n",
       "    <tr>\n",
       "      <th>0</th>\n",
       "      <td>0.119497</td>\n",
       "    </tr>\n",
       "    <tr>\n",
       "      <th>1</th>\n",
       "      <td>279.990357</td>\n",
       "    </tr>\n",
       "    <tr>\n",
       "      <th>2</th>\n",
       "      <td>628.976744</td>\n",
       "    </tr>\n",
       "  </tbody>\n",
       "</table>\n",
       "</div>"
      ],
      "text/plain": [
       "          CC2\n",
       "0    0.119497\n",
       "1  279.990357\n",
       "2  628.976744"
      ]
     },
     "execution_count": 65,
     "metadata": {},
     "output_type": "execute_result"
    }
   ],
   "source": [
    "t = CNRs('CC2')\n",
    "t"
   ]
  },
  {
   "cell_type": "code",
   "execution_count": 66,
   "id": "08a862b6-4b98-49ad-bf25-c1fbe771c76d",
   "metadata": {},
   "outputs": [
    {
     "name": "stdout",
     "output_type": "stream",
     "text": [
      " *** CC3 ***\n",
      "\troi mean: 2.41, std: 26.182\n",
      "\trim mean: 554.36, std: 295.212\n",
      "\tbla mean: 609.81, std:19.216\n",
      "\n",
      "\tCNR_std = -20.057\n",
      "\tCNR_mean = -0.632\n",
      "********************************************************************************\n"
     ]
    },
    {
     "data": {
      "text/html": [
       "<div>\n",
       "<style scoped>\n",
       "    .dataframe tbody tr th:only-of-type {\n",
       "        vertical-align: middle;\n",
       "    }\n",
       "\n",
       "    .dataframe tbody tr th {\n",
       "        vertical-align: top;\n",
       "    }\n",
       "\n",
       "    .dataframe thead th {\n",
       "        text-align: right;\n",
       "    }\n",
       "</style>\n",
       "<table border=\"1\" class=\"dataframe\">\n",
       "  <thead>\n",
       "    <tr style=\"text-align: right;\">\n",
       "      <th></th>\n",
       "      <th>CC3</th>\n",
       "    </tr>\n",
       "  </thead>\n",
       "  <tbody>\n",
       "    <tr>\n",
       "      <th>0</th>\n",
       "      <td>2.409440</td>\n",
       "    </tr>\n",
       "    <tr>\n",
       "      <th>1</th>\n",
       "      <td>554.359872</td>\n",
       "    </tr>\n",
       "    <tr>\n",
       "      <th>2</th>\n",
       "      <td>609.813333</td>\n",
       "    </tr>\n",
       "  </tbody>\n",
       "</table>\n",
       "</div>"
      ],
      "text/plain": [
       "          CC3\n",
       "0    2.409440\n",
       "1  554.359872\n",
       "2  609.813333"
      ]
     },
     "execution_count": 66,
     "metadata": {},
     "output_type": "execute_result"
    }
   ],
   "source": [
    "t = CNRs('CC3')\n",
    "t"
   ]
  },
  {
   "cell_type": "code",
   "execution_count": null,
   "id": "53383069-29af-48a9-a8d0-a472c4144f76",
   "metadata": {},
   "outputs": [],
   "source": []
  },
  {
   "cell_type": "code",
   "execution_count": null,
   "id": "f6a05203-755e-4752-b1c4-f43462cdca32",
   "metadata": {},
   "outputs": [],
   "source": []
  },
  {
   "cell_type": "code",
   "execution_count": null,
   "id": "8c18d7d7-db6b-40ae-8bca-0ff99f4f5197",
   "metadata": {},
   "outputs": [],
   "source": []
  },
  {
   "cell_type": "code",
   "execution_count": null,
   "id": "ce9c5fec-f72a-43fc-ae33-ae2d68c3a63a",
   "metadata": {},
   "outputs": [],
   "source": []
  },
  {
   "cell_type": "code",
   "execution_count": null,
   "id": "19fa256c-4522-4637-abea-2544733ae8e5",
   "metadata": {},
   "outputs": [],
   "source": []
  },
  {
   "cell_type": "code",
   "execution_count": null,
   "id": "df499fe5-ef01-402d-841a-e6ac6367eed0",
   "metadata": {},
   "outputs": [],
   "source": []
  },
  {
   "cell_type": "code",
   "execution_count": null,
   "id": "0cbc0013-d772-4acc-9c25-d3c7e9b0bd2b",
   "metadata": {},
   "outputs": [],
   "source": []
  },
  {
   "cell_type": "code",
   "execution_count": 86,
   "id": "28e7ded1-ad2c-4659-b0fc-5fa5b8628f89",
   "metadata": {},
   "outputs": [
    {
     "name": "stdout",
     "output_type": "stream",
     "text": [
      "23-Nov-2021 13:45:32\n"
     ]
    }
   ],
   "source": [
    "utils.print_date(5)"
   ]
  },
  {
   "cell_type": "code",
   "execution_count": 87,
   "id": "9642814d-4069-4b3a-bc3c-955ea5b0e40c",
   "metadata": {},
   "outputs": [],
   "source": [
    "utils.save_notebook_as_html(file_name='cnr-05-cc1-cnr', cleaning_delay=2)"
   ]
  }
 ],
 "metadata": {
  "kernelspec": {
   "display_name": "tumor-cnr",
   "language": "python",
   "name": "tumor-cnr"
  },
  "language_info": {
   "codemirror_mode": {
    "name": "ipython",
    "version": 3
   },
   "file_extension": ".py",
   "mimetype": "text/x-python",
   "name": "python",
   "nbconvert_exporter": "python",
   "pygments_lexer": "ipython3",
   "version": "3.8.12"
  }
 },
 "nbformat": 4,
 "nbformat_minor": 5
}
